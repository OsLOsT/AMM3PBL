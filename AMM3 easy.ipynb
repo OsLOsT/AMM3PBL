{
 "cells": [
  {
   "cell_type": "markdown",
   "metadata": {},
   "source": [
    "# Preface\n",
    "Advanced Mathematics for Easy version of PBL\n",
    "\n",
    "Dataset: population of Nigeria"
   ]
  },
  {
   "cell_type": "code",
   "execution_count": 1,
   "metadata": {},
   "outputs": [
    {
     "data": {
      "text/html": [
       "<div>\n",
       "<style scoped>\n",
       "    .dataframe tbody tr th:only-of-type {\n",
       "        vertical-align: middle;\n",
       "    }\n",
       "\n",
       "    .dataframe tbody tr th {\n",
       "        vertical-align: top;\n",
       "    }\n",
       "\n",
       "    .dataframe thead th {\n",
       "        text-align: right;\n",
       "    }\n",
       "</style>\n",
       "<table border=\"1\" class=\"dataframe\">\n",
       "  <thead>\n",
       "    <tr style=\"text-align: right;\">\n",
       "      <th></th>\n",
       "      <th>Years</th>\n",
       "      <th>Total Population</th>\n",
       "      <th>Population growth</th>\n",
       "    </tr>\n",
       "  </thead>\n",
       "  <tbody>\n",
       "    <tr>\n",
       "      <th>53</th>\n",
       "      <td>2013</td>\n",
       "      <td>171829303</td>\n",
       "      <td>2.672919</td>\n",
       "    </tr>\n",
       "    <tr>\n",
       "      <th>54</th>\n",
       "      <td>2014</td>\n",
       "      <td>176460502</td>\n",
       "      <td>2.659551</td>\n",
       "    </tr>\n",
       "    <tr>\n",
       "      <th>55</th>\n",
       "      <td>2015</td>\n",
       "      <td>181181744</td>\n",
       "      <td>2.640357</td>\n",
       "    </tr>\n",
       "    <tr>\n",
       "      <th>56</th>\n",
       "      <td>2016</td>\n",
       "      <td>185989640</td>\n",
       "      <td>2.619034</td>\n",
       "    </tr>\n",
       "    <tr>\n",
       "      <th>57</th>\n",
       "      <td>2017</td>\n",
       "      <td>190886311</td>\n",
       "      <td>2.598705</td>\n",
       "    </tr>\n",
       "  </tbody>\n",
       "</table>\n",
       "</div>"
      ],
      "text/plain": [
       "    Years  Total Population  Population growth\n",
       "53   2013         171829303           2.672919\n",
       "54   2014         176460502           2.659551\n",
       "55   2015         181181744           2.640357\n",
       "56   2016         185989640           2.619034\n",
       "57   2017         190886311           2.598705"
      ]
     },
     "execution_count": 1,
     "metadata": {},
     "output_type": "execute_result"
    }
   ],
   "source": [
    "import pandas as pd\n",
    "import numpy as np\n",
    "from matplotlib.pyplot import scatter as plot\n",
    "\n",
    "dataset = pd.read_csv('Dataset/nigeriaData.csv')\n",
    "\n",
    "# Viewing the dataset\n",
    "dataset.head(5)\n",
    "preprocessedDataset = dataset.drop(0, axis=0)\n",
    "preprocessedDataset.tail(5)"
   ]
  },
  {
   "cell_type": "code",
   "execution_count": 2,
   "metadata": {},
   "outputs": [
    {
     "data": {
      "text/plain": [
       "<matplotlib.collections.PathCollection at 0x7fadc61861d0>"
      ]
     },
     "execution_count": 2,
     "metadata": {},
     "output_type": "execute_result"
    },
    {
     "data": {
      "image/png": "[encoded data removed]",
      "text/plain": [
       "<Figure size 432x288 with 1 Axes>"
      ]
     },
     "metadata": {
      "needs_background": "light"
     },
     "output_type": "display_data"
    }
   ],
   "source": [
    "# Showing the scatterplot for the years\n",
    "plot(dataset['Years'], dataset['Total Population'])"
   ]
  },
  {
   "cell_type": "code",
   "execution_count": 3,
   "metadata": {},
   "outputs": [
    {
     "name": "stdout",
     "output_type": "stream",
     "text": [
      "Intial population is 45137812\n",
      "The intrinsic Growth Rate (r) is 0.024951\n"
     ]
    }
   ],
   "source": [
    "# we have simplified the eqn to r = sigma from k = 1 to k = n [(1/tk)* ln(Pk/P0)]\n",
    "numerator = 0\n",
    "denominator = 0\n",
    "time = 1 # in year x; x is 1,2,3,4,...\n",
    "\n",
    "# Assume the initial population is at Year 1960\n",
    "initialPopulation = dataset['Total Population'][0]\n",
    "print(\"Intial population is %d\" %(initialPopulation))\n",
    "for rawPopulation in preprocessedDataset['Total Population']:\n",
    "    numerator = numerator + time * np.log(rawPopulation/initialPopulation)\n",
    "    denominator = denominator + time**2\n",
    "    time = time + 1\n",
    "intrinsicGrowthRate = numerator/denominator\n",
    "print('The intrinsic Growth Rate (r) is %f' % (intrinsicGrowthRate))"
   ]
  },
  {
   "cell_type": "code",
   "execution_count": 4,
   "metadata": {},
   "outputs": [
    {
     "name": "stdout",
     "output_type": "stream",
     "text": [
      "It'll be  Year 2155.977800 when the population reaches 6 billion\n"
     ]
    }
   ],
   "source": [
    "# we find the time it takes for the population to reach 6 billion\n",
    "prediction = (1/intrinsicGrowthRate) * (np.log(6000000000/initialPopulation))\n",
    "print('It\\'ll be  Year %f when the population reaches 6 billion' % (prediction + 1960))"
   ]
  }
 ],
 "metadata": {
  "kernelspec": {
   "display_name": "Python 3",
   "language": "python",
   "name": "python3"
  },
  "language_info": {
   "codemirror_mode": {
    "name": "ipython",
    "version": 3
   },
   "file_extension": ".py",
   "mimetype": "text/x-python",
   "name": "python",
   "nbconvert_exporter": "python",
   "pygments_lexer": "ipython3",
   "version": "3.7.3"
  }
 },
 "nbformat": 4,
 "nbformat_minor": 2
}
