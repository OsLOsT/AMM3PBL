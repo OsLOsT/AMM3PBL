{
 "cells": [
  {
   "cell_type": "markdown",
   "metadata": {},
   "source": [
    "# Preface\n",
    "Advanced Mathematics for Medium version of PBL\n",
    "\n",
    "Dataset: population of Cuba"
   ]
  },
  {
   "cell_type": "code",
   "execution_count": 1,
   "metadata": {},
   "outputs": [
    {
     "data": {
      "text/html": [
       "<div>\n",
       "<style scoped>\n",
       "    .dataframe tbody tr th:only-of-type {\n",
       "        vertical-align: middle;\n",
       "    }\n",
       "\n",
       "    .dataframe tbody tr th {\n",
       "        vertical-align: top;\n",
       "    }\n",
       "\n",
       "    .dataframe thead th {\n",
       "        text-align: right;\n",
       "    }\n",
       "</style>\n",
       "<table border=\"1\" class=\"dataframe\">\n",
       "  <thead>\n",
       "    <tr style=\"text-align: right;\">\n",
       "      <th></th>\n",
       "      <th>Years</th>\n",
       "      <th>Total Population</th>\n",
       "      <th>Population growth</th>\n",
       "    </tr>\n",
       "  </thead>\n",
       "  <tbody>\n",
       "    <tr>\n",
       "      <th>53</th>\n",
       "      <td>2013</td>\n",
       "      <td>11412167</td>\n",
       "      <td>0.263408</td>\n",
       "    </tr>\n",
       "    <tr>\n",
       "      <th>54</th>\n",
       "      <td>2014</td>\n",
       "      <td>11439767</td>\n",
       "      <td>0.241555</td>\n",
       "    </tr>\n",
       "    <tr>\n",
       "      <th>55</th>\n",
       "      <td>2015</td>\n",
       "      <td>11461432</td>\n",
       "      <td>0.189204</td>\n",
       "    </tr>\n",
       "    <tr>\n",
       "      <th>56</th>\n",
       "      <td>2016</td>\n",
       "      <td>11475982</td>\n",
       "      <td>0.126867</td>\n",
       "    </tr>\n",
       "    <tr>\n",
       "      <th>57</th>\n",
       "      <td>2017</td>\n",
       "      <td>11484636</td>\n",
       "      <td>0.075381</td>\n",
       "    </tr>\n",
       "  </tbody>\n",
       "</table>\n",
       "</div>"
      ],
      "text/plain": [
       "    Years  Total Population  Population growth\n",
       "53   2013          11412167           0.263408\n",
       "54   2014          11439767           0.241555\n",
       "55   2015          11461432           0.189204\n",
       "56   2016          11475982           0.126867\n",
       "57   2017          11484636           0.075381"
      ]
     },
     "execution_count": 1,
     "metadata": {},
     "output_type": "execute_result"
    }
   ],
   "source": [
    "import pandas as pd\n",
    "import numpy as np\n",
    "import matplotlib.pyplot as plot\n",
    "\n",
    "dataset = pd.read_csv('Dataset/cubaData.csv')\n",
    "\n",
    "# Viewing the dataset\n",
    "dataset.head(5)\n",
    "preprocessedDataset = dataset.drop(0, axis=0)\n",
    "preprocessedDataset.tail(5)"
   ]
  },
  {
   "cell_type": "code",
   "execution_count": 2,
   "metadata": {},
   "outputs": [
    {
     "data": {
      "image/png": "[encoded data removed]",
      "text/plain": [
       "<Figure size 432x288 with 1 Axes>"
      ]
     },
     "metadata": {
      "needs_background": "light"
     },
     "output_type": "display_data"
    }
   ],
   "source": [
    "# Showing the scatterplot for the years\n",
    "plot.scatter(dataset['Years'], dataset['Total Population'])\n",
    "plot.show()"
   ]
  },
  {
   "cell_type": "code",
   "execution_count": 3,
   "metadata": {},
   "outputs": [
    {
     "name": "stdout",
     "output_type": "stream",
     "text": [
      "The intrinsic growth rate is : 0.070961\n"
     ]
    }
   ],
   "source": [
    "# aggregating values of r\n",
    "carryingCapacity = 11630000\n",
    "count = len(dataset['Population growth'][1:])\n",
    "total = 0\n",
    "\n",
    "# the population growth is given, fitting it to a line of y = c\n",
    "for population, growth in zip(dataset['Total Population'][1:], dataset['Population growth'][1:]):\n",
    "    total = total + (growth/(1-population/carryingCapacity))\n",
    "    #total = total + growth\n",
    "intrinsicGrowthRate = total/(count)/100\n",
    "print(\"The intrinsic growth rate is : %f\" % (intrinsicGrowthRate) )"
   ]
  },
  {
   "cell_type": "code",
   "execution_count": 4,
   "metadata": {},
   "outputs": [
    {
     "data": {
      "image/png": "[encoded data removed]",
      "text/plain": [
       "<Figure size 432x288 with 1 Axes>"
      ]
     },
     "metadata": {
      "needs_background": "light"
     },
     "output_type": "display_data"
    }
   ],
   "source": [
    "# plotting a scatterlot of model and actual coordinates\n",
    "time = 0\n",
    "initialPopulation =7141135\n",
    "\n",
    "# create model numbers:\n",
    "modelPrediction = []\n",
    "for ind in dataset['Years']:\n",
    "    prediction = carryingCapacity/((carryingCapacity - initialPopulation) / initialPopulation * np.exp(-intrinsicGrowthRate * time) + 1)\n",
    "    modelPrediction.append(prediction)\n",
    "    time = time + 1\n",
    "    \n",
    "plot.scatter(dataset['Years'], modelPrediction)\n",
    "plot.scatter(dataset['Years'], dataset['Total Population'])\n",
    "plot.title(\"Without considering carrying capacity\")\n",
    "plot.show()"
   ]
  },
  {
   "cell_type": "code",
   "execution_count": 5,
   "metadata": {},
   "outputs": [
    {
     "name": "stdout",
     "output_type": "stream",
     "text": [
      "7141135\n",
      "The year at which popualtion reaches 94.198200 percent (10955250.713548) of carrying capacity is: 1992\n",
      "The year at which popualtion reaches 94.586017 percent (11000353.795157) of carrying capacity is: 1993\n",
      "The year at which popualtion reaches 94.949400 percent (11042615.275336) of carrying capacity is: 1994\n",
      "The year at which popualtion reaches 95.289696 percent (11082191.653794) of carrying capacity is: 1995\n",
      "The year at which popualtion reaches 95.608201 percent (11119233.767611) of carrying capacity is: 1996\n",
      "The year at which popualtion reaches 95.906161 percent (11153886.580934) of carrying capacity is: 1997\n"
     ]
    },
    {
     "data": {
      "image/png": "[encoded data removed]",
      "text/plain": [
       "<Figure size 432x288 with 1 Axes>"
      ]
     },
     "metadata": {
      "needs_background": "light"
     },
     "output_type": "display_data"
    }
   ],
   "source": [
    "mediumModel =[]\n",
    "previousData = dataset.iloc[0,1]\n",
    "yearIndex = []\n",
    "initialYear = 1960\n",
    "time = 0\n",
    "print(previousData)\n",
    "\n",
    "while (previousData < carryingCapacity*0.999999999):\n",
    "    yearIndex.append(initialYear + time)\n",
    "    newData = previousData + intrinsicGrowthRate * previousData * (1-previousData/carryingCapacity)\n",
    "    mediumModel.append(newData)\n",
    "    previousData = newData\n",
    "    time = time + 1\n",
    "    # print(newData, initialYear + time)\n",
    "    if (newData <= (carryingCapacity*0.96) and newData>=(carryingCapacity*0.94)):\n",
    "        currentYear = initialYear + time\n",
    "        print(\"The year at which popualtion reaches %f percent (%f) of carrying capacity is: %d\" % (newData/carryingCapacity *100, newData, currentYear))\n",
    "plot.scatter(yearIndex,mediumModel)\n",
    "plot.scatter(dataset['Years'], dataset['Total Population'])\n",
    "plot.title(\"With Carrying Capacity (K)\")\n",
    "plot.show()"
   ]
  },
  {
   "cell_type": "code",
   "execution_count": 6,
   "metadata": {},
   "outputs": [
    {
     "name": "stdout",
     "output_type": "stream",
     "text": [
      "It will be 1994.951013 when the population reaches 95 percent of carrying capacity of Cuba.\n"
     ]
    }
   ],
   "source": [
    "# calculating time needed for 95% of carrying capacity\n",
    "prediction = -1/intrinsicGrowthRate * np.log((1/0.95-1)/((carryingCapacity - initialPopulation)/initialPopulation))\n",
    "print(\"It will be %f when the population reaches 95 percent of carrying capacity of Cuba.\" % (prediction + initialYear))"
   ]
  },
  {
   "cell_type": "code",
   "execution_count": null,
   "metadata": {},
   "outputs": [],
   "source": []
  }
 ],
 "metadata": {
  "kernelspec": {
   "display_name": "Python 3",
   "language": "python",
   "name": "python3"
  },
  "language_info": {
   "codemirror_mode": {
    "name": "ipython",
    "version": 3
   },
   "file_extension": ".py",
   "mimetype": "text/x-python",
   "name": "python",
   "nbconvert_exporter": "python",
   "pygments_lexer": "ipython3",
   "version": "3.7.3"
  }
 },
 "nbformat": 4,
 "nbformat_minor": 2
}
